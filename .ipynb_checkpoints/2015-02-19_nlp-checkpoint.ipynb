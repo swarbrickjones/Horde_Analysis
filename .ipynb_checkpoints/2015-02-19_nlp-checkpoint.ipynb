{
 "metadata": {
  "name": ""
 },
 "nbformat": 3,
 "nbformat_minor": 0,
 "worksheets": [
  {
   "cells": [
    {
     "cell_type": "code",
     "collapsed": false,
     "input": [
      "import os\n",
      "import pandas as pd\n",
      "import matplotlib\n",
      "import math\n",
      "from matplotlib import pyplot as plt\n",
      "%matplotlib inline\n",
      "\n",
      "font = {'family' : 'sans-serif',\n",
      "        'weight' : 'bold',\n",
      "        'size'   : 10}\n",
      "\n",
      "matplotlib.rc('font', **font)\n",
      "\n",
      "\n",
      "__location__ = os.path.realpath((os.getcwd()))\n",
      "\n",
      "raw_data = pd.read_csv(os.path.join(__location__, 'data/cleaned_data.csv'))\n",
      "raw_data['date_time']  = pd.to_datetime(raw_data['date_time'])\n",
      "\n",
      "user_messages = raw_data[raw_data['user']!='WhatsApp']\n",
      "notifications = raw_data[raw_data['user']=='WhatsApp']\n",
      "\n",
      "print 'loaded',len(user_messages),'user messages and',len(notifications),'WhatsApp notifications from file'\n",
      "\n",
      "user_names = set(user_messages['user'])\n",
      "min_day = raw_data['date_time'].min()\n",
      "max_day = raw_data['date_time'].max()"
     ],
     "language": "python",
     "metadata": {},
     "outputs": [
      {
       "output_type": "stream",
       "stream": "stdout",
       "text": [
        "loaded 10022 user messages and 75 WhatsApp notifications from file\n"
       ]
      }
     ],
     "prompt_number": 1
    },
    {
     "cell_type": "raw",
     "metadata": {},
     "source": [
      "split messages and write to files for ease of access."
     ]
    },
    {
     "cell_type": "code",
     "collapsed": false,
     "input": [
      "def concatenate_list(input_strings):\n",
      "    return reduce(lambda x,y : x + \".\" + y,input_strings)\n",
      "    \n",
      "\n",
      "def get_messages(user_name):    \n",
      "    this_user_messages = user_messages[user_messages['user']==user_name]\n",
      "    return concatenate_list(this_user_messages.message.values)\n",
      "\n",
      "def write_messages(messages, user_name):\n",
      "    output_file = open(os.path.join(__location__, 'nlp/user_messages/' + user_name + '.txt'),'w')\n",
      "    output_file.write(messages)\n",
      "    output_file.close()\n",
      "    \n",
      "for user_name in user_names:\n",
      "    messages = get_messages(user_name)\n",
      "    write_messages(messages, user_name)\n",
      "    "
     ],
     "language": "python",
     "metadata": {},
     "outputs": []
    }
   ],
   "metadata": {}
  }
 ]
}