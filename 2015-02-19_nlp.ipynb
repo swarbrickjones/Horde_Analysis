{
 "metadata": {
  "name": "",
  "signature": "sha256:24f27638bdd58aa19c7e7f4a67253b54442ed68549909b7723afaa7e60b45d1b"
 },
 "nbformat": 3,
 "nbformat_minor": 0,
 "worksheets": [
  {
   "cells": [
    {
     "cell_type": "code",
     "collapsed": false,
     "input": [
      "import os\n",
      "import pandas as pd\n",
      "import matplotlib\n",
      "import math\n",
      "from matplotlib import pyplot as plt\n",
      "%matplotlib inline\n",
      "\n",
      "font = {'family' : 'sans-serif',\n",
      "        'weight' : 'bold',\n",
      "        'size'   : 10}\n",
      "\n",
      "matplotlib.rc('font', **font)\n",
      "\n",
      "\n",
      "__location__ = os.path.realpath((os.getcwd()))\n",
      "\n",
      "raw_data = pd.read_csv(os.path.join(__location__, 'data/cleaned_data.csv'))\n",
      "raw_data['date_time']  = pd.to_datetime(raw_data['date_time'])\n",
      "\n",
      "user_messages = raw_data[raw_data['user']!='WhatsApp']\n",
      "notifications = raw_data[raw_data['user']=='WhatsApp']\n",
      "\n",
      "print 'loaded',len(user_messages),'user messages and',len(notifications),'WhatsApp notifications from file'\n",
      "\n",
      "user_names = set(user_messages['user'])\n",
      "min_day = raw_data['date_time'].min()\n",
      "max_day = raw_data['date_time'].max()\n",
      "\n",
      "print raw_data"
     ],
     "language": "python",
     "metadata": {},
     "outputs": [
      {
       "output_type": "stream",
       "stream": "stdout",
       "text": [
        "loaded 11989 user messages and 90 WhatsApp notifications from file\n",
        "                date_time                                            message  \\\n",
        "0     2013-09-28 17:29:00          Shaggy changed the subject to \u201cThe hoard\u201d   \n",
        "1     2013-09-28 17:29:00                              USER_ENTERED : Shaggy   \n",
        "2     2013-09-28 17:29:00                               USER_ENTERED : Marth   \n",
        "3     2013-09-28 17:29:00                                USER_ENTERED : Dave   \n",
        "4     2013-09-28 17:30:00                                           [MEDIA]    \n",
        "5     2013-09-28 17:33:00                                USER_ENTERED : Bunn   \n",
        "6     2013-09-28 17:33:00                                USER_ENTERED : Cate   \n",
        "7     2013-09-28 17:33:00                                USER_ENTERED : Phil   \n",
        "8     2013-09-28 17:31:00                                           [MEDIA]    \n",
        "9     2013-09-28 17:33:00                   Shaggy changed this group's icon   \n",
        "10    2013-09-28 17:51:00                                [MEDIA] .  [MEDIA]    \n",
        "11    2013-09-28 17:53:00                                           [MEDIA]    \n",
        "12    2013-09-28 17:53:00                                           [MEDIA]    \n",
        "13    2013-09-28 17:55:00                                       Add vanessa!   \n",
        "14    2013-09-28 18:51:00                                           [MEDIA]    \n",
        "15    2013-09-28 20:13:00  With the help of Tegs, Angie and Gee xx.  [MED...   \n",
        "16    2013-09-28 20:15:00                                           [MEDIA]    \n",
        "17    2013-09-28 20:40:00                                OMG I'm so excited!   \n",
        "18    2013-09-28 21:00:00                           Desde mexico!.  [MEDIA]    \n",
        "19    2013-09-28 21:01:00                                           [MEDIA]    \n",
        "20    2013-09-28 21:02:00                                           [MEDIA]    \n",
        "21    2013-09-28 21:03:00  Is that a picture behind you? Where's the hurr...   \n",
        "22    2013-09-28 21:04:00  I asked them to stop while I took it. Everyone...   \n",
        "23    2013-09-28 21:05:00                                      Thats nice :)   \n",
        "24    2013-09-28 21:09:00         I'm confused. What do you mean hurricanes?   \n",
        "25    2013-09-28 21:10:00  Have you not been keeping up with your mexican...   \n",
        "26    2013-09-28 21:11:00  Gosh darn I knew there was something I forgot ...   \n",
        "27    2013-09-28 17:33:00                                 USER_ENTERED : Sam   \n",
        "28    2013-09-29 11:52:00                             USER_ENTERED : Vanessa   \n",
        "29    2013-09-29 14:05:00                    [MEDIA] . I just saw Spider-Man   \n",
        "...                   ...                                                ...   \n",
        "12049 2015-01-19 10:12:00                       The fuck is that? Lindy hop?   \n",
        "12050 2015-01-19 10:14:00  Fuuun... dancing with throwing! I'm up for giv...   \n",
        "12051 2015-01-19 10:18:00                               Hipster nonsense. Jk   \n",
        "12052 2015-01-19 11:53:00  Hey guys, question:. Has anyone heard of any n...   \n",
        "12053 2015-01-19 11:58:00                                      Check out CES   \n",
        "12054 2015-01-19 12:12:00                                           [MEDIA]    \n",
        "12055 2015-01-19 12:16:00  http://m.youtube.com/watch?v=HSheVhmcYLA. Hove...   \n",
        "12056 2015-01-19 17:21:00                 Lindy hop is way harder than salsa   \n",
        "12057 2015-01-19 19:59:00  Meaty pasta concuction available for grabs bak...   \n",
        "12058 2015-01-19 20:00:00                                            Awesome   \n",
        "12059 2015-01-19 20:57:00                                           [MEDIA]    \n",
        "12060 2015-01-19 20:58:00                                   It's so tidy? !?   \n",
        "12061 2015-01-19 21:01:00  Yeah what the hell?! Did you hire your years s...   \n",
        "12062 2015-01-19 21:04:00  Man you should see the projector room. There's...   \n",
        "12063 2015-01-19 21:04:00  Nice. What brought this on?. And how long will...   \n",
        "12064 2015-01-19 21:05:00       Very nice! You guys found a new roomie yet??   \n",
        "12065 2015-01-19 21:08:00  Nah. We havnt tried much tho. It'd just be ano...   \n",
        "12066 2015-01-19 21:09:00                                  Get a homebrewer!   \n",
        "12067 2015-01-19 21:09:00  Haha I'd imagine there would have to be a seri...   \n",
        "12068 2015-01-19 21:09:00                      Must make beer!. Even better!   \n",
        "12069 2015-01-19 21:09:00                        And buy jager by the gallon   \n",
        "12070 2015-01-19 21:09:00  I keep saying we should just make the spare ro...   \n",
        "12071 2015-01-19 21:10:00  Must be a half austrian half ukranian with a m...   \n",
        "12072 2015-01-19 21:13:00                                    Sounds perfect!   \n",
        "12073 2015-01-19 21:14:00         Let's all get drunk soon..I miss you guys!   \n",
        "12074 2015-01-19 21:39:00                         Is the moonshine bearable?   \n",
        "12075 2015-01-19 21:41:00  Come round Loz! Bearable bear bor all!. It's p...   \n",
        "12076 2015-01-19 21:43:00  You'll either love it or hate it. But you'll d...   \n",
        "12077 2015-01-19 21:45:00  I'll have to come over very soon! I just smash...   \n",
        "12078 2015-01-19 21:53:00  Isn't that how Marmite was made in the first p...   \n",
        "\n",
        "           user emoji  \n",
        "0      WhatsApp   NaN  \n",
        "1      WhatsApp   NaN  \n",
        "2      WhatsApp   NaN  \n",
        "3      WhatsApp   NaN  \n",
        "4        Shaggy   NaN  \n",
        "5      WhatsApp   NaN  \n",
        "6      WhatsApp   NaN  \n",
        "7      WhatsApp   NaN  \n",
        "8          Bunn   NaN  \n",
        "9      WhatsApp   NaN  \n",
        "10         Bunn   NaN  \n",
        "11       Shaggy   NaN  \n",
        "12         Cate   NaN  \n",
        "13         Bunn   NaN  \n",
        "14         Bunn   NaN  \n",
        "15         Dave   NaN  \n",
        "16         Bunn   NaN  \n",
        "17      Vanessa   NaN  \n",
        "18          Sam   NaN  \n",
        "19         Bunn   NaN  \n",
        "20          Sam   NaN  \n",
        "21       Shaggy   NaN  \n",
        "22          Sam   NaN  \n",
        "23         Bunn   NaN  \n",
        "24      Vanessa   NaN  \n",
        "25         Bunn   NaN  \n",
        "26      Vanessa   NaN  \n",
        "27     WhatsApp   NaN  \n",
        "28     WhatsApp   NaN  \n",
        "29      Vanessa   NaN  \n",
        "...         ...   ...  \n",
        "12049       Joe   NaN  \n",
        "12050     Tegan   NaN  \n",
        "12051      Bunn   NaN  \n",
        "12052    Hannah   NaN  \n",
        "12053    Shaggy   NaN  \n",
        "12054     Lorna   NaN  \n",
        "12055       Sam   NaN  \n",
        "12056    Shaggy   NaN  \n",
        "12057       Joe   NaN  \n",
        "12058      Bunn   NaN  \n",
        "12059       Sam   NaN  \n",
        "12060       Loz   NaN  \n",
        "12061      Owen   NaN  \n",
        "12062      Mike   NaN  \n",
        "12063      Owen   NaN  \n",
        "12064       Loz   NaN  \n",
        "12065      Bunn   NaN  \n",
        "12066      Owen   NaN  \n",
        "12067       Loz   NaN  \n",
        "12068      Owen   NaN  \n",
        "12069       Loz   NaN  \n",
        "12070      Mike   NaN  \n",
        "12071      Owen   NaN  \n",
        "12072      Bunn   NaN  \n",
        "12073       Loz   NaN  \n",
        "12074    Shaggy   NaN  \n",
        "12075       Sam   NaN  \n",
        "12076      Dave   NaN  \n",
        "12077       Loz   NaN  \n",
        "12078      Mike   NaN  \n",
        "\n",
        "[12079 rows x 4 columns]\n"
       ]
      }
     ],
     "prompt_number": 2
    },
    {
     "cell_type": "markdown",
     "metadata": {},
     "source": [
      "split messages and write to files for ease of access."
     ]
    },
    {
     "cell_type": "code",
     "collapsed": false,
     "input": [
      "import nltk \n",
      "from nltk.corpus.reader.plaintext import PlaintextCorpusReader\n",
      "from nltk.corpus import stopwords\n",
      "from collections import Counter\n",
      "from nltk.stem.porter import *\n",
      "from sklearn.feature_extraction.text import TfidfVectorizer, CountVectorizer\n",
      "import os\n",
      "import string\n",
      "import re\n",
      "\n",
      "stop_words = {'im','a','able','about','across','after','all','almost','also','am','among','an','and','any','are','as','at','be','because','been','but','by','can','cannot','could','dear','did','do','does','either','else','ever','every','for','from','get','got','had','has','have','he','her','hers','him','his','how','however','i','if','in','into','is','it','its','just','least','let','like','likely','may','me','might','most','must','my','neither','no','nor','not','of','off','often','on','only','or','other','our','own','rather','said','say','says','she','should','since','so','some','than','that','the','their','them','then','there','these','they','this','tis','to','too','twas','us','wants','was','we','were','what','when','where','which','while','who','whom','why','will','with','would','yet','you','your'}\n",
      "exclude = set(string.punctuation)\n",
      "\n",
      "token_dict = {}\n",
      "stemmer = PorterStemmer()\n",
      "\n",
      "def replace_punctiation_char(ch):\n",
      "    if ch in exclude:\n",
      "        return ' '\n",
      "    else :\n",
      "        return ch\n",
      "    \n",
      "def convert_utf(in_):\n",
      "    try :\n",
      "        return str(in_)\n",
      "    except UnicodeEncodeError:\n",
      "        return str(in_.encode('ascii', 'ignore'))\n",
      "  \n",
      "def remove_websites(text):\n",
      "    return re.sub(r'^https?:\\/\\/.*[\\r\\n]*', '', text, flags=re.MULTILINE)      \n",
      "\n",
      "def remove_punctiation(s):    \n",
      "    return ''.join(replace_punctiation_char(ch) for ch in s )\n",
      "    \n",
      "def remove_emojis(s):\n",
      "    return re.sub(r'EMOJI\\[[a-z\\d]*\\]', ' ', s)\n",
      "\n",
      "def remove_media(s):\n",
      "    return re.sub(r'MEDIA', ' ', s)\n",
      "\n",
      "def replace_repeats(s):\n",
      "    return re.sub(r'(.)\\1{3,}', r'\\1', s)\n",
      "    \n",
      "def stem_tokens(tokens, stemmer):\n",
      "    stemmed = [stemmer.stem(item) for item in tokens]\n",
      "    return ' '.join(stemmed)\n",
      "\n",
      "def remove_whitespace(s):\n",
      "    return ' '.join(s.split())\n",
      "\n",
      "def scrub_text(text):\n",
      "    #text =  fin.read().strip() # Prints the content of the file\n",
      "    just_text = convert_utf(remove_websites(remove_media(remove_emojis(text)).lower()))\n",
      "    no_punctuation = remove_punctiation(just_text)\n",
      "    no_repeats = replace_repeats(no_punctuation)\n",
      "    return remove_whitespace(no_repeats) \n",
      "\n",
      "def concatenate_list(input_strings):\n",
      "    return reduce(lambda x,y : x + \".\" + y,input_strings)\n",
      "\n",
      "user_messages['scrubbed_text'] = [scrub_text(text) for text in user_messages.message]\n",
      "print user_messages\n",
      "\n",
      "def get_messages(user_name):    \n",
      "    this_user_messages = user_messages[user_messages['user']==user_name]\n",
      "    return concatenate_list(this_user_messages.scrubbed_text.values)\n",
      "\n",
      "def write_messages(messages, user_name):\n",
      "    output_file = open(os.path.join(__location__, 'nlp/user_messages/' + user_name + '.txt'),'w')\n",
      "    output_file.write(messages)\n",
      "    output_file.close()\n",
      "    \n",
      "for user_name in user_names:\n",
      "    messages = get_messages(user_name)\n",
      "    write_messages(messages, user_name) "
     ],
     "language": "python",
     "metadata": {},
     "outputs": [
      {
       "output_type": "stream",
       "stream": "stdout",
       "text": [
        "                date_time                                            message  \\\n",
        "4     2013-09-28 17:30:00                                           [MEDIA]    \n",
        "8     2013-09-28 17:31:00                                           [MEDIA]    \n",
        "10    2013-09-28 17:51:00                                [MEDIA] .  [MEDIA]    \n",
        "11    2013-09-28 17:53:00                                           [MEDIA]    \n",
        "12    2013-09-28 17:53:00                                           [MEDIA]    \n",
        "13    2013-09-28 17:55:00                                       Add vanessa!   \n",
        "14    2013-09-28 18:51:00                                           [MEDIA]    \n",
        "15    2013-09-28 20:13:00  With the help of Tegs, Angie and Gee xx.  [MED...   \n",
        "16    2013-09-28 20:15:00                                           [MEDIA]    \n",
        "17    2013-09-28 20:40:00                                OMG I'm so excited!   \n",
        "18    2013-09-28 21:00:00                           Desde mexico!.  [MEDIA]    \n",
        "19    2013-09-28 21:01:00                                           [MEDIA]    \n",
        "20    2013-09-28 21:02:00                                           [MEDIA]    \n",
        "21    2013-09-28 21:03:00  Is that a picture behind you? Where's the hurr...   \n",
        "22    2013-09-28 21:04:00  I asked them to stop while I took it. Everyone...   \n",
        "23    2013-09-28 21:05:00                                      Thats nice :)   \n",
        "24    2013-09-28 21:09:00         I'm confused. What do you mean hurricanes?   \n",
        "25    2013-09-28 21:10:00  Have you not been keeping up with your mexican...   \n",
        "26    2013-09-28 21:11:00  Gosh darn I knew there was something I forgot ...   \n",
        "29    2013-09-29 14:05:00                    [MEDIA] . I just saw Spider-Man   \n",
        "30    2013-09-29 14:48:00  He looks like he's having a dilemma over what ...   \n",
        "31    2013-09-29 17:21:00                                                Lol   \n",
        "32    2013-09-30 09:43:00  This group needs mike and bongi. Bongo*. And i...   \n",
        "34    2013-09-30 09:45:00                                       Close enough   \n",
        "35    2013-09-30 09:45:00  There you go. How do you invite? Maybe only th...   \n",
        "37    2013-09-30 09:55:00                           They don't have whatsapp   \n",
        "38    2013-09-30 09:56:00                                             Lameos   \n",
        "39    2013-09-30 09:56:00  Philistines!. Also I looked it up, because I'm...   \n",
        "40    2013-09-30 09:56:00                               Hows everyone doing?   \n",
        "41    2013-09-30 09:57:00                                   Way ahead of you   \n",
        "...                   ...                                                ...   \n",
        "12049 2015-01-19 10:12:00                       The fuck is that? Lindy hop?   \n",
        "12050 2015-01-19 10:14:00  Fuuun... dancing with throwing! I'm up for giv...   \n",
        "12051 2015-01-19 10:18:00                               Hipster nonsense. Jk   \n",
        "12052 2015-01-19 11:53:00  Hey guys, question:. Has anyone heard of any n...   \n",
        "12053 2015-01-19 11:58:00                                      Check out CES   \n",
        "12054 2015-01-19 12:12:00                                           [MEDIA]    \n",
        "12055 2015-01-19 12:16:00  http://m.youtube.com/watch?v=HSheVhmcYLA. Hove...   \n",
        "12056 2015-01-19 17:21:00                 Lindy hop is way harder than salsa   \n",
        "12057 2015-01-19 19:59:00  Meaty pasta concuction available for grabs bak...   \n",
        "12058 2015-01-19 20:00:00                                            Awesome   \n",
        "12059 2015-01-19 20:57:00                                           [MEDIA]    \n",
        "12060 2015-01-19 20:58:00                                   It's so tidy? !?   \n",
        "12061 2015-01-19 21:01:00  Yeah what the hell?! Did you hire your years s...   \n",
        "12062 2015-01-19 21:04:00  Man you should see the projector room. There's...   \n",
        "12063 2015-01-19 21:04:00  Nice. What brought this on?. And how long will...   \n",
        "12064 2015-01-19 21:05:00       Very nice! You guys found a new roomie yet??   \n",
        "12065 2015-01-19 21:08:00  Nah. We havnt tried much tho. It'd just be ano...   \n",
        "12066 2015-01-19 21:09:00                                  Get a homebrewer!   \n",
        "12067 2015-01-19 21:09:00  Haha I'd imagine there would have to be a seri...   \n",
        "12068 2015-01-19 21:09:00                      Must make beer!. Even better!   \n",
        "12069 2015-01-19 21:09:00                        And buy jager by the gallon   \n",
        "12070 2015-01-19 21:09:00  I keep saying we should just make the spare ro...   \n",
        "12071 2015-01-19 21:10:00  Must be a half austrian half ukranian with a m...   \n",
        "12072 2015-01-19 21:13:00                                    Sounds perfect!   \n",
        "12073 2015-01-19 21:14:00         Let's all get drunk soon..I miss you guys!   \n",
        "12074 2015-01-19 21:39:00                         Is the moonshine bearable?   \n",
        "12075 2015-01-19 21:41:00  Come round Loz! Bearable bear bor all!. It's p...   \n",
        "12076 2015-01-19 21:43:00  You'll either love it or hate it. But you'll d...   \n",
        "12077 2015-01-19 21:45:00  I'll have to come over very soon! I just smash...   \n",
        "12078 2015-01-19 21:53:00  Isn't that how Marmite was made in the first p...   \n",
        "\n",
        "          user emoji                                      scrubbed_text  \n",
        "4       Shaggy   NaN                                                     \n",
        "8         Bunn   NaN                                                     \n",
        "10        Bunn   NaN                                                     \n",
        "11      Shaggy   NaN                                                     \n",
        "12        Cate   NaN                                                     \n",
        "13        Bunn   NaN                                        add vanessa  \n",
        "14        Bunn   NaN                                                     \n",
        "15        Dave   NaN             with the help of tegs angie and gee xx  \n",
        "16        Bunn   NaN                                                     \n",
        "17     Vanessa   NaN                                 omg i m so excited  \n",
        "18         Sam   NaN                                       desde mexico  \n",
        "19        Bunn   NaN                                                     \n",
        "20         Sam   NaN                                                     \n",
        "21      Shaggy   NaN  is that a picture behind you where s the hurri...  \n",
        "22         Sam   NaN  i asked them to stop while i took it everyone ...  \n",
        "23        Bunn   NaN                                         thats nice  \n",
        "24     Vanessa   NaN           i m confused what do you mean hurricanes  \n",
        "25        Bunn   NaN  have you not been keeping up with your mexican...  \n",
        "26     Vanessa   NaN  gosh darn i knew there was something i forgot ...  \n",
        "29     Vanessa   NaN                              i just saw spider man  \n",
        "30        Bunn   NaN  he looks like he s having a dilemma over what ...  \n",
        "31     Vanessa   NaN                                                lol  \n",
        "32        Bunn   NaN  this group needs mike and bongi bongo and i th...  \n",
        "34        Bunn   NaN                                       close enough  \n",
        "35         Sam   NaN  there you go how do you invite maybe only the ...  \n",
        "37      Shaggy   NaN                           they don t have whatsapp  \n",
        "38        Bunn   NaN                                             lameos  \n",
        "39         Sam   NaN  philistines also i looked it up because i m bo...  \n",
        "40        Bunn   NaN                                hows everyone doing  \n",
        "41      Shaggy   NaN                                   way ahead of you  \n",
        "...        ...   ...                                                ...  \n",
        "12049      Joe   NaN                         the fuck is that lindy hop  \n",
        "12050    Tegan   NaN  fuuun dancing with throwing i m up for giving ...  \n",
        "12051     Bunn   NaN                                hipster nonsense jk  \n",
        "12052   Hannah   NaN  hey guys question has anyone heard of any new ...  \n",
        "12053   Shaggy   NaN                                      check out ces  \n",
        "12054    Lorna   NaN                                                     \n",
        "12055      Sam   NaN                                                     \n",
        "12056   Shaggy   NaN                 lindy hop is way harder than salsa  \n",
        "12057      Joe   NaN  meaty pasta concuction available for grabs bak...  \n",
        "12058     Bunn   NaN                                            awesome  \n",
        "12059      Sam   NaN                                                     \n",
        "12060      Loz   NaN                                       it s so tidy  \n",
        "12061     Owen   NaN  yeah what the hell did you hire your years sup...  \n",
        "12062     Mike   NaN  man you should see the projector room there s ...  \n",
        "12063     Owen   NaN  nice what brought this on and how long will it...  \n",
        "12064      Loz   NaN          very nice you guys found a new roomie yet  \n",
        "12065     Bunn   NaN  nah we havnt tried much tho it d just be anoth...  \n",
        "12066     Owen   NaN                                   get a homebrewer  \n",
        "12067      Loz   NaN  haha i d imagine there would have to be a seri...  \n",
        "12068     Owen   NaN                         must make beer even better  \n",
        "12069      Loz   NaN                        and buy jager by the gallon  \n",
        "12070     Mike   NaN  i keep saying we should just make the spare ro...  \n",
        "12071     Owen   NaN  must be a half austrian half ukranian with a m...  \n",
        "12072     Bunn   NaN                                     sounds perfect  \n",
        "12073      Loz   NaN           let s all get drunk soon i miss you guys  \n",
        "12074   Shaggy   NaN                          is the moonshine bearable  \n",
        "12075      Sam   NaN  come round loz bearable bear bor all it s pret...  \n",
        "12076     Dave   NaN  you ll either love it or hate it but you ll dr...  \n",
        "12077      Loz   NaN  i ll have to come over very soon i just smashe...  \n",
        "12078     Mike   NaN  isn t that how marmite was made in the first p...  \n",
        "\n",
        "[11989 rows x 5 columns]\n"
       ]
      }
     ],
     "prompt_number": 19
    },
    {
     "cell_type": "code",
     "collapsed": false,
     "input": [
      "corpusdir= 'nlp/user_messages/'\n",
      "newcorpus = PlaintextCorpusReader(corpusdir, '.*')\n",
      "\n",
      "def tokenize(text):\n",
      "    #text =  fin.read().strip() # Prints the content of the file\n",
      "    just_text = remove_websites(remove_media(remove_emojis(text)).lower())\n",
      "    no_punctuation = remove_punctiation(just_text)\n",
      "    no_repeats = replace_repeats(no_punctuation)\n",
      "    tokens = nltk.word_tokenize(text)\n",
      "    stems = stem_tokens(tokens, stemmer)\n",
      "    return stems  \n",
      "\n",
      "def remove_whitespace(s):\n",
      "    return ' '.join(s.split())\n",
      "    \n",
      "for infile in sorted(newcorpus.fileids()):\n",
      "    #print infile # The fileids of each file.\n",
      "    fin =  newcorpus.open(infile)  # Opens the file.\n",
      "    text =  fin.read().strip() # Prints the content of the file\n",
      "    token_dict[infile] = convert_utf(text)\n"
     ],
     "language": "python",
     "metadata": {},
     "outputs": [
      {
       "metadata": {},
       "output_type": "pyout",
       "prompt_number": 21,
       "text": [
        "TfidfVectorizer(analyzer='word', binary=False, charset=None,\n",
        "        charset_error=None, decode_error=u'strict',\n",
        "        dtype=<type 'numpy.int64'>, encoding=u'utf-8', input=u'content',\n",
        "        lowercase=True, max_df=1.0, max_features=None, min_df=3,\n",
        "        ngram_range=(1, 2), norm=u'l2', preprocessor=None, smooth_idf=1,\n",
        "        stop_words=None, strip_accents='unicode', sublinear_tf=1,\n",
        "        token_pattern='\\\\w{1,}', tokenizer=None, use_idf=1,\n",
        "        vocabulary=None)"
       ]
      }
     ],
     "prompt_number": 21
    },
    {
     "cell_type": "code",
     "collapsed": false,
     "input": [
      "import numpy as np\n",
      "\n",
      "    \n",
      "tvf = TfidfVectorizer(min_df=3,  max_features=None, strip_accents='unicode',  \n",
      "        analyzer='word',token_pattern=r'\\w{1,}',ngram_range=(0,1), use_idf=1,smooth_idf=1,\n",
      "        sublinear_tf=1)\n",
      "\n",
      "\n",
      "def invert_index(index):\n",
      "    return tvf.inverse_transform([index])\n",
      "\n",
      "def get_other_docs(key):\n",
      "    return [token_dict[user] if key != user else '' for user in token_dict.keys()]\n",
      "    \n",
      "\n",
      "for key in token_dict.keys():\n",
      "    print key\n",
      "    tvf.fit(get_other_docs(key))\n",
      "    feature_names = tvf.get_feature_names()\n",
      "    tfidf_array = tvf.transform([token_dict[key]])\n",
      "    scores = np.ravel(tfidf_array.todense())\n",
      "    with_index = zip(feature_names, scores)\n",
      "    print sorted(with_index , key = lambda pair : - pair[1])[:10]\n",
      "    "
     ],
     "language": "python",
     "metadata": {},
     "outputs": [
      {
       "output_type": "stream",
       "stream": "stdout",
       "text": [
        "Lora.txt\n",
        "[(u'lb', 0.14014725841831263), (u'vanessa', 0.13305217340634712), (u'st', 0.12195784810585117), (u'shags', 0.11967811030019433), (u'borough', 0.11306992565299845), (u'hl', 0.11306992565299845), (u'inn', 0.11306992565299845), (u'kingdom', 0.11306992565299845), (u'min', 0.11306992565299845), (u'lol', 0.1094127021030349)]"
       ]
      },
      {
       "output_type": "stream",
       "stream": "stdout",
       "text": [
        "\n",
        "Adimina.txt\n",
        "[(u'haha', 0.091909603723235325), (u'woo', 0.089617781788052991), (u'hotel', 0.085537397548566457), (u'keen', 0.085537397548566457), (u'i', 0.080567697279856645), (u'soz', 0.080238920052117621), (u'bermondsey', 0.079567495154326442), (u'hmmm', 0.079567495154326442), (u'run', 0.075877032208342091), (u'uxbridge', 0.074689729733746782)]"
       ]
      },
      {
       "output_type": "stream",
       "stream": "stdout",
       "text": [
        "\n",
        "Marth.txt\n",
        "[(u'shag', 0.093654442809811264), (u'dudes', 0.093271590458807674), (u'xx', 0.086810635583514623), (u'pancakes', 0.078844855935951766), (u'epic', 0.075940278464648903), (u'lahore', 0.068845921778352387), (u'hola', 0.068552293239259432), (u'seats', 0.068552293239259432), (u'barbican', 0.06811487053388747), (u'innit', 0.067393712530433747)]"
       ]
      },
      {
       "output_type": "stream",
       "stream": "stdout",
       "text": [
        "\n",
        "Shaggy.txt\n",
        "[(u'options', 0.058362428756292349), (u'borough', 0.055139870305853912), (u'roebuck', 0.054550951089104308), (u'vinay', 0.05080565960335006), (u'yourself', 0.050743682422437091), (u'csv', 0.049886079433953207), (u'shots', 0.049886079433953207), (u'i', 0.049758624558140528), (u'lol', 0.047890699495680429), (u'shortly', 0.047632917417795864)]"
       ]
      },
      {
       "output_type": "stream",
       "stream": "stdout",
       "text": [
        "\n",
        "Angela.txt\n",
        "[(u'i', 0.079003266380183373), (u'train', 0.078929777112940774), (u'shakespeare', 0.074955919213274713), (u'to', 0.071362552256663478), (u'haha', 0.071256708746610706), (u'skirts', 0.071256708746610706), (u'a', 0.070283339086820731), (u'and', 0.069979178597566458), (u'my', 0.069489806054877437), (u'that', 0.069355371993833681)]"
       ]
      },
      {
       "output_type": "stream",
       "stream": "stdout",
       "text": [
        "\n",
        "Phil.txt\n",
        "[(u'dang', 0.094633524855319631), (u'poo', 0.088453289141355321), (u'i', 0.067874709171020245), (u'gay', 0.066172704381565028), (u'll', 0.064553960862756013), (u'the', 0.063891840810807232), (u'to', 0.063781867780223739), (u'you', 0.06351075930038691), (u'hella', 0.063352774473913298), (u'ass', 0.062116086429817335)]"
       ]
      },
      {
       "output_type": "stream",
       "stream": "stdout",
       "text": [
        "\n",
        "Pete.txt\n",
        "[(u'cos', 0.236406050871313), (u'hola', 0.21990658876986016), (u'wedding', 0.18515404036497385), (u'bar', 0.15517353613219878), (u'i', 0.15032119235489602), (u'a', 0.13984415525987762), (u'direct', 0.13962522194504703), (u'ground', 0.13962522194504703), (u'singing', 0.13962522194504703), (u'and', 0.13473279202364816)]"
       ]
      },
      {
       "output_type": "stream",
       "stream": "stdout",
       "text": [
        "\n",
        "Cate.txt\n",
        "[(u'bristol', 0.13523892751571784), (u'i', 0.13110653363122537), (u'car', 0.12318612840918965), (u'haha', 0.1085107928502923), (u'internet', 0.1085107928502923), (u'seriously', 0.10371978580798383), (u'stuff', 0.10206765494908399), (u'to', 0.10200505946946603), (u'what', 0.10187845634557267), (u't', 0.10152265357522526)]"
       ]
      },
      {
       "output_type": "stream",
       "stream": "stdout",
       "text": [
        "\n",
        "Alan.txt\n",
        "[(u'catan', 0.13490042327983398), (u'dairy', 0.1012407761700362), (u'cats', 0.10068486326148432), (u'player', 0.095034362907974429), (u'to', 0.093894359403700431), (u'car', 0.092217969209188247), (u'the', 0.090503115985046151), (u'eu', 0.089786915264046349), (u'pubs', 0.089786915264046349), (u'a', 0.089407928714332716)]"
       ]
      },
      {
       "output_type": "stream",
       "stream": "stdout",
       "text": [
        "\n",
        "Sam.txt\n",
        "[(u'kriz', 0.060401838599655581), (u'n', 0.052780826474591737), (u'hehe', 0.050573025163342882), (u'ten', 0.048959622371424073), (u'bunns', 0.047155991500957971), (u'fancy', 0.046072099590535855), (u'birthdays', 0.045111203466995764), (u'snacks', 0.045111203466995764), (u'shag', 0.043864838454075863), (u'heaven', 0.042750668918956972)]"
       ]
      },
      {
       "output_type": "stream",
       "stream": "stdout",
       "text": [
        "\n",
        "Bunn.txt\n",
        "[(u'thats', 0.078135153232348459), (u'cos', 0.077420752616144881), (u'dont', 0.071861877209371539), (u'cant', 0.065555721605124753), (u'didnt', 0.061136413088704954), (u'im', 0.060989294895685969), (u'lets', 0.058625394968099424), (u'probs', 0.058625394968099424), (u'lol', 0.052566925784449853), (u'couldnt', 0.051929393810683247)]"
       ]
      },
      {
       "output_type": "stream",
       "stream": "stdout",
       "text": [
        "\n",
        "Simone.txt\n",
        "[(u'crying', 0.56643874026546992), (u'recommend', 0.45448982727390641), (u'yep', 0.37033906425864471), (u'amazing', 0.31217656116661141), (u'been', 0.2757884847537298), (u'was', 0.2757884847537298), (u'just', 0.21289117850773345), (u'the', 0.20134470949417616), (u'0', 0.0), (u'000', 0.0)]"
       ]
      },
      {
       "output_type": "stream",
       "stream": "stdout",
       "text": [
        "\n",
        "Vinay.txt\n",
        "[(u'skating', 0.22147296387627996), (u'wonderland', 0.17067641407322895), (u'eve', 0.16021335363554387), (u'halloween', 0.16021335363554387), (u'fish', 0.15136696208478717), (u'winter', 0.14370386916299088), (u'haha', 0.13694454216799662), (u'i', 0.13203062068984528), (u'lol', 0.12881306928102229), (u'birthday', 0.12430627085174793)]"
       ]
      },
      {
       "output_type": "stream",
       "stream": "stdout",
       "text": [
        "\n",
        "Owen.txt\n",
        "[(u'eliza', 0.074615496123597344), (u'whats', 0.063854140773133242), (u'thats', 0.061669473395576775), (u'dan', 0.059939658870442877), (u'animal', 0.058027437628864267), (u'duh', 0.058027437628864267), (u'kritzia', 0.058027437628864267), (u'owen', 0.057590979202202026), (u'excel', 0.056957975666342378), (u'sarah', 0.054237837241770753)]"
       ]
      },
      {
       "output_type": "stream",
       "stream": "stdout",
       "text": [
        "\n",
        "Chris.txt\n",
        "[(u'fuck', 0.54314908775192405), (u'you', 0.51410104051013639), (u'took', 0.50584958347758191), (u'them', 0.42988997140687618), (u'0', 0.0), (u'000', 0.0), (u'1', 0.0), (u'10', 0.0), (u'100', 0.0), (u'10ish', 0.0)]"
       ]
      },
      {
       "output_type": "stream",
       "stream": "stdout",
       "text": [
        "\n",
        "Bongo.txt\n",
        "[(u'yea', 0.075305244715912087), (u'reckon', 0.066208696094798167), (u'lol', 0.06240560608911206), (u'probs', 0.06009434628898095), (u'shots', 0.06009434628898095), (u'mins', 0.056052026840640277), (u'lamb', 0.055968463256612665), (u'chinese', 0.055900188036887989), (u'shag', 0.055900188036887989), (u'terrorists', 0.054955436571707594)]"
       ]
      },
      {
       "output_type": "stream",
       "stream": "stdout",
       "text": [
        "\n",
        "Em.txt\n",
        "[(u'lego', 0.16984863250335028), (u'save', 0.16984863250335028), (u'cheese', 0.16154768758103616), (u'i', 0.14482104072132193), (u'classic', 0.14061375181460142), (u'independent', 0.14061375181460142), (u'unlikely', 0.14061375181460142), (u'vom', 0.14061375181460142), (u'han', 0.13079991134623276), (u'highly', 0.13079991134623276)]"
       ]
      },
      {
       "output_type": "stream",
       "stream": "stdout",
       "text": [
        "\n",
        "Tanya.txt\n",
        "[(u'woop', 0.24824798814640786), (u'bday', 0.2028245070796075), (u'dudes', 0.16791371517134965), (u'exciting', 0.16791371517134965), (u'visiting', 0.16791371517134965), (u'x', 0.1644950133177501), (u'you', 0.15937680464417142), (u'partying', 0.15619453129440253), (u'bash', 0.14661926086325766), (u'realised', 0.14661926086325766)]"
       ]
      },
      {
       "output_type": "stream",
       "stream": "stdout",
       "text": [
        "\n",
        "Eliza.txt\n",
        "[(u'angel', 0.10670987962988952), (u'we', 0.095225494254286475), (u'51', 0.08943120727892942), (u'q', 0.08943120727892942), (u'particular', 0.088405191359248084), (u'sarah', 0.088405191359248084), (u'sticking', 0.088405191359248084), (u'o', 0.088022917494774269), (u'and', 0.08795632752652964), (u're', 0.087860282336435933)]"
       ]
      },
      {
       "output_type": "stream",
       "stream": "stdout",
       "text": [
        "\n",
        "Lisa.txt\n",
        "[(u'i', 0.17196490216397381), (u'and', 0.17115163973524819), (u'again', 0.15086784097641798), (u'degenerate', 0.14475896066663285), (u'ps', 0.14475896066663285), (u'thing', 0.1418116866655118), (u'may', 0.13882533831256694), (u'loz', 0.13465581408234784), (u'throwing', 0.13465581408234784), (u'to', 0.13206167326785698)]"
       ]
      },
      {
       "output_type": "stream",
       "stream": "stdout",
       "text": [
        "\n",
        "Krizia.txt\n",
        "[(u'p', 0.11210043578047593), (u'vs', 0.10774787477597464), (u'beautiful', 0.10466122927198783), (u'italian', 0.094537232497898124), (u'hehe', 0.086452972784157631), (u'tomo', 0.086452972784157631), (u'hun', 0.082548225073545409), (u'arrive', 0.080419169745898619), (u'bday', 0.079591635219707885), (u'friend', 0.079591635219707885)]"
       ]
      },
      {
       "output_type": "stream",
       "stream": "stdout",
       "text": [
        "\n",
        "Henry.txt\n",
        "[(u'im', 0.15061640781450417), (u'id', 0.12999326429977218), (u'thats', 0.12100314624687251), (u'yea', 0.11241471343853275), (u'haha', 0.10768448344452335), (u'ive', 0.10400014894734289), (u'dont', 0.097624576494212814), (u'stuck', 0.097624576494212814), (u'thrones', 0.097624576494212814), (u'i', 0.09739590788497679)]"
       ]
      },
      {
       "output_type": "stream",
       "stream": "stdout",
       "text": [
        "\n",
        "Loz.txt\n",
        "[(u'degenerates', 0.19942022832818715), (u'egg', 0.17413018614247047), (u'haha', 0.14884014395675377), (u'i', 0.13165337942933669), (u'keen', 0.13089657346723316), (u'a', 0.12331258680716896), (u'it', 0.12331258680716896), (u'drunk', 0.12128174566126497), (u'for', 0.11796548044985479), (u'14', 0.11778079934092696)]"
       ]
      },
      {
       "output_type": "stream",
       "stream": "stdout",
       "text": [
        "\n",
        "Tegan.txt\n",
        "[(u'slam', 0.058594335383963789), (u'whoop', 0.057790702356048412), (u'doh', 0.0532481258271695), (u'january', 0.0532481258271695), (u'alright', 0.04716629879021763), (u'dang', 0.04716629879021763), (u'i', 0.04576580549654688), (u'y', 0.045547998432622819), (u'fancy', 0.044965141989265836), (u'plans', 0.044460906089556461)]"
       ]
      },
      {
       "output_type": "stream",
       "stream": "stdout",
       "text": [
        "\n",
        "Wills.txt\n",
        "[(u'drive', 0.15287345865131174), (u'argument', 0.14532887639211764), (u'records', 0.14532887639211764), (u'teegz', 0.14532887639211764), (u'score', 0.11989170996707295), (u'i', 0.11674349188848419), (u'they', 0.11451952412344842), (u'break', 0.11382208089229437), (u'for', 0.10619572846463669), (u'may', 0.10202767453018025)]"
       ]
      },
      {
       "output_type": "stream",
       "stream": "stdout",
       "text": [
        "\n",
        "Dave.txt\n",
        "[(u'whoop', 0.080631775276851544), (u'tegs', 0.07600405976859384), (u'xx', 0.069612648976945732), (u'aight', 0.064601565541095821), (u'yip', 0.063403644582033403), (u'x', 0.060753297479385467), (u'perhaps', 0.058678085304062801), (u'wharf', 0.057032178525924258), (u'plan', 0.05474348062047088), (u'c', 0.054141153738410101)]"
       ]
      },
      {
       "output_type": "stream",
       "stream": "stdout",
       "text": [
        "\n",
        "Joe.txt\n",
        "[(u'cheeky', 0.088372448367339498), (u'teegz', 0.082601105047249726), (u'whats', 0.082204679575993173), (u'im', 0.078699067294467448), (u'epic', 0.077165245537408791), (u'driving', 0.075537551691604643), (u'okay', 0.07212581149882441), (u'relay', 0.070265567464557074), (u'i', 0.066143499651909785), (u'ill', 0.066002971358628357)]"
       ]
      },
      {
       "output_type": "stream",
       "stream": "stdout",
       "text": [
        "\n",
        "Hannah.txt\n",
        "[(u'singing', 0.083243102247344894), (u'tits', 0.083243102247344894), (u'em', 0.075199223260974848), (u'shags', 0.068882930194222425), (u'wanna', 0.068498063881425805), (u'site', 0.06742994030509239), (u'till', 0.065079468386365094), (u'fight', 0.064384389683133009), (u'bday', 0.062078365136716961), (u'saturday', 0.061255042469959435)]"
       ]
      },
      {
       "output_type": "stream",
       "stream": "stdout",
       "text": [
        "\n",
        "Vanessa.txt\n",
        "[(u'dalston', 0.08114686166044062), (u'burger', 0.074322977135008642), (u'bunny', 0.074118091241426279), (u'7pm', 0.072776557100716732), (u'vroom', 0.072776557100716732), (u'walking', 0.072776557100716732), (u'yup', 0.070095530600199754), (u'i', 0.066719441108739785), (u'krizia', 0.066683762241933106), (u'8pm', 0.064002907414508689)]"
       ]
      },
      {
       "output_type": "stream",
       "stream": "stdout",
       "text": [
        "\n",
        "Catrin.txt\n",
        "[(u'rd', 0.16962175856098302), (u'southbank', 0.16962175856098302), (u'alan', 0.16727879507040994), (u'i', 0.14425935024253481), (u'teegs', 0.1405550858076981), (u'in', 0.12862249505165216), (u'you', 0.1271400921982794), (u'and', 0.1253689747279165), (u'm', 0.12189206403030939), (u's', 0.12162701674616824)]"
       ]
      },
      {
       "output_type": "stream",
       "stream": "stdout",
       "text": [
        "\n",
        "Mike.txt\n",
        "[(u'tho', 0.066471526691699187), (u'eve', 0.055844241143226073), (u'tomo', 0.055447637431727079), (u'shag', 0.0539156899323762), (u'wtf', 0.0539156899323762), (u'lol', 0.053574556227410322), (u'cause', 0.051121468310179309), (u'kigu', 0.04887887491008077), (u'yeah', 0.047617969495853674), (u'i', 0.046104142105477502)]"
       ]
      },
      {
       "output_type": "stream",
       "stream": "stdout",
       "text": [
        "\n",
        "Lorna.txt\n",
        "[(u'i', 0.088770283124888869), (u'll', 0.084944696472543643), (u'and', 0.077826642734637644), (u'mins', 0.077728426596543679), (u'm', 0.077685165896595645), (u'busy', 0.077256922041588336), (u'costa', 0.074590008522497947), (u'also', 0.074429801985175653), (u'coming', 0.074429801985175653), (u'to', 0.071813708384786762)]"
       ]
      },
      {
       "output_type": "stream",
       "stream": "stdout",
       "text": [
        "\n",
        "Dan.txt\n",
        "[(u'incident', 0.12551481833566192), (u'reviews', 0.12551481833566192), (u'uni', 0.12551481833566192), (u'3d', 0.11675477610887773), (u'godzilla', 0.11675477610887773), (u'oberyn', 0.11675477610887773), (u'rush', 0.11675477610887773), (u'i', 0.10828260434959111), (u'and', 0.10341944848204984), (u'was', 0.098905995993929616)]"
       ]
      },
      {
       "output_type": "stream",
       "stream": "stdout",
       "text": [
        "\n",
        "Wagg.txt\n",
        "[(u'p', 0.19596768873659456), (u'austrian', 0.16931191313487773), (u'degenerate', 0.16931191313487773), (u'dudes', 0.16931191313487773), (u'ps', 0.16931191313487773), (u'whack', 0.16931191313487773), (u'america', 0.1574951449777291), (u'convo', 0.1574951449777291), (u'vs', 0.1574951449777291), (u'bongo', 0.15181119461632561)]"
       ]
      },
      {
       "output_type": "stream",
       "stream": "stdout",
       "text": [
        "\n",
        "Mateusz.txt\n",
        "[(u'u', 0.29815120504046189), (u'southbank', 0.21821684866195951), (u'x', 0.17402622473653229), (u'love', 0.16281992425430852), (u'wooo', 0.1562270849660912), (u'guys', 0.15507557686394877), (u'there', 0.14590616876473575), (u'2015', 0.14532354481507526), (u'berlin', 0.14532354481507526), (u'celebrations', 0.14532354481507526)]"
       ]
      },
      {
       "output_type": "stream",
       "stream": "stdout",
       "text": [
        "\n"
       ]
      }
     ],
     "prompt_number": 95
    },
    {
     "cell_type": "code",
     "collapsed": false,
     "input": [],
     "language": "python",
     "metadata": {},
     "outputs": [],
     "prompt_number": 5
    }
   ],
   "metadata": {}
  }
 ]
}